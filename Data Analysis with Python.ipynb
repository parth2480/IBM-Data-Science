{
 "cells": [
  {
   "cell_type": "code",
   "execution_count": null,
   "metadata": {},
   "outputs": [],
   "source": [
    "import pandas as pd\n",
    "import matplotlib.pyplot as plt\n",
    "import numpy as np\n",
    "import seaborn as sns\n",
    "from sklearn.pipeline import Pipeline\n",
    "from sklearn.preprocessing import StandardScaler,PolynomialFeatures\n",
    "from sklearn.linear_model import LinearRegression\n",
    "from sklearn.model_selection import cross_val_score\n",
    "from sklearn.model_selection import train_test_split\n",
    "from sklearn.linear_model import Ridge\n",
    "%matplotlib inline"
   ]
  },
  {
   "cell_type": "markdown",
   "metadata": {},
   "source": [
    "First we need to import the dataset in, remove some columns that are not needed as well removing NaN values."
   ]
  },
  {
   "cell_type": "code",
   "execution_count": null,
   "metadata": {},
   "outputs": [],
   "source": [
    "file_name='https://s3-api.us-geo.objectstorage.softlayer.net/cf-courses-data/CognitiveClass/DA0101EN/coursera/project/kc_house_data_NaN.csv'\n",
    "df=pd.read_csv(file_name)\n",
    "\n",
    "df.describe()\n",
    "df.drop(['id', 'Unnamed: 0'], axis=1, inplace = True)\n",
    "\n",
    "mean=df['bedrooms'].mean()\n",
    "df['bedrooms'].replace(np.nan,mean, inplace=True)"
   ]
  },
  {
   "cell_type": "markdown",
   "metadata": {},
   "source": [
    "Now lets create some plots to see some basic insights that we can get from the data."
   ]
  },
  {
   "cell_type": "code",
   "execution_count": null,
   "metadata": {},
   "outputs": [],
   "source": [
    "sns.boxplot(x = 'waterfront', y = 'price', data = df)\n",
    "\n",
    "sns.regplot(x = 'sqft_above', y = 'price', data = df)"
   ]
  },
  {
   "cell_type": "markdown",
   "metadata": {},
   "source": [
    "I used linear regression models for this particular dataset but this depends on the type of data being dealt with. I also calculated how close the linear regression model that we developed actually fits the data that we have."
   ]
  },
  {
   "cell_type": "code",
   "execution_count": null,
   "metadata": {},
   "outputs": [],
   "source": [
    "x1 = df[['sqft_living']]\n",
    "y1 = df[['price']]\n",
    "linearreg = LinearRegression()\n",
    "linearreg.fit(x1, y1)\n",
    "linearreg.score(x1, y1)\n",
    "\n",
    "features = [\"floors\", \"waterfront\",\"lat\" ,\"bedrooms\" ,\"sqft_basement\" ,\"view\" ,\"bathrooms\",\"sqft_living15\",\"sqft_above\",\"grade\",\"sqft_living\"]\n",
    "y2 = df[['price']]\n",
    "linearreg2 = LinearRegression()\n",
    "linearreg2.fit(df[features], y2)\n",
    "linearreg2.score(df[features], y2)"
   ]
  },
  {
   "cell_type": "markdown",
   "metadata": {},
   "source": [
    "Then I looked at different models and how they behaved with this dataset. Polynomial fits were tried as well as some smoothing of the model using Ridge objects. This was again tested against the given data to see how close the model gets to predicting the actual values."
   ]
  },
  {
   "cell_type": "code",
   "execution_count": null,
   "metadata": {},
   "outputs": [],
   "source": [
    "Input=[('scale',StandardScaler()),('polynomial', PolynomialFeatures(include_bias=False)),('model',LinearRegression())]\n",
    "\n",
    "pipe2 = Pipeline(Input)\n",
    "pipe2.fit(df[features], y2)\n",
    "pipe2.score(df[features], y2)\n",
    "\n",
    "\n",
    "ridge = Ridge(alpha = 0.1)\n",
    "ridge.fit(x_train, y_train)\n",
    "tested = ridge.predict(x_test)\n",
    "ridge.score(x_test, y_test)\n",
    "\n",
    "polynomial = PolynomialFeatures(degree = 2)\n",
    "ridge2 = Ridge(alpha = 0.1)\n",
    "x_train2=polynomial.fit_transform(x_train)\n",
    "x_test2=polynomial.fit_transform(x_test)\n",
    "ridge2.fit(x_train2, y_train)\n",
    "ridge2.score(x_test2, y_test)"
   ]
  }
 ],
 "metadata": {
  "kernelspec": {
   "display_name": "Python 3",
   "language": "python",
   "name": "python3"
  },
  "language_info": {
   "codemirror_mode": {
    "name": "ipython",
    "version": 3
   },
   "file_extension": ".py",
   "mimetype": "text/x-python",
   "name": "python",
   "nbconvert_exporter": "python",
   "pygments_lexer": "ipython3",
   "version": "3.7.3"
  }
 },
 "nbformat": 4,
 "nbformat_minor": 2
}
