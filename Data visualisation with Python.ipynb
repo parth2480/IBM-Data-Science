{
 "cells": [
  {
   "cell_type": "code",
   "execution_count": null,
   "metadata": {},
   "outputs": [],
   "source": [
    "import pandas as pd\n",
    "import numpy as np\n",
    "!conda install -c conda-forge folium=0.5.0 --yes\n",
    "import folium\n",
    "!pip install xlrd\n",
    "%matplotlib inline \n",
    "import matplotlib as mpl\n",
    "import matplotlib.pyplot as plt"
   ]
  },
  {
   "cell_type": "code",
   "execution_count": null,
   "metadata": {},
   "outputs": [],
   "source": [
    "survey_df = pd.read_csv('https://cocl.us/datascience_survey_data', index_col=0)\n",
    "survey_df.head()"
   ]
  },
  {
   "cell_type": "code",
   "execution_count": null,
   "metadata": {},
   "outputs": [],
   "source": [
    "sorted = survey_df.sort_values(['Very interested'], ascending=False)"
   ]
  },
  {
   "cell_type": "code",
   "execution_count": null,
   "metadata": {},
   "outputs": [],
   "source": [
    "percent_df = round(survey_df/2233, 2)\n",
    "percent_df = percent_df.sort_values(['Very interested'], ascending=False)"
   ]
  },
  {
   "cell_type": "code",
   "execution_count": null,
   "metadata": {},
   "outputs": [],
   "source": [
    "percent_df.plot(kind='bar', figsize=(20, 8), color=('#5cb85c', '#5bc0de', '#d9534f'))\n",
    "plt.title('Percentage of Respondents interest in Data Science Areas', fontsize=16)\n",
    "plt.xticks(fontsize=14)\n",
    "\n",
    "ax = plt.subplot(111)\n",
    "ax.spines['right'].set_visible(False)\n",
    "ax.spines['top'].set_visible(False)\n",
    "plt.show()"
   ]
  },
  {
   "cell_type": "code",
   "execution_count": null,
   "metadata": {},
   "outputs": [],
   "source": [
    "sf_df = pd.read_csv('https://cocl.us/sanfran_crime_dataset')"
   ]
  },
  {
   "cell_type": "code",
   "execution_count": null,
   "metadata": {},
   "outputs": [],
   "source": [
    "!wget --quiet https://cocl.us/sanfran_geojson -O sanfran.json"
   ]
  },
  {
   "cell_type": "code",
   "execution_count": null,
   "metadata": {},
   "outputs": [],
   "source": [
    "lat = 37.77\n",
    "long = -122.42\n",
    "\n",
    "sanfran_map = folium.Map(location=[lat, long], zoom_start=12)\n",
    "\n",
    "sanfran_map.choropleth(\n",
    "    geo_data='sanfran.json',\n",
    "    data=sf_df,\n",
    "    columns=['PdDistrict', 'IncidntNum'],\n",
    "    key_on='feature.properties.DISTRICT',\n",
    "    fill_color='YlOrRd', \n",
    "    fill_opacity=0.7, \n",
    "    line_opacity=0.2)\n",
    "\n",
    "sanfran_map"
   ]
  }
 ],
 "metadata": {
  "kernelspec": {
   "display_name": "Python 3",
   "language": "python",
   "name": "python3"
  },
  "language_info": {
   "codemirror_mode": {
    "name": "ipython",
    "version": 3
   },
   "file_extension": ".py",
   "mimetype": "text/x-python",
   "name": "python",
   "nbconvert_exporter": "python",
   "pygments_lexer": "ipython3",
   "version": "3.7.3"
  }
 },
 "nbformat": 4,
 "nbformat_minor": 2
}
